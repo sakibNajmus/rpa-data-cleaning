{
 "cells": [
  {
   "cell_type": "code",
   "execution_count": 3,
   "id": "fa7139da",
   "metadata": {},
   "outputs": [],
   "source": [
    "import pandas as pd\n",
    "import numpy as np\n",
    "from pm4py.objects.log.util import dataframe_utils\n",
    "from pm4py.objects.conversion.log import converter as log_converter\n",
    "from pm4py.algo.discovery.alpha import algorithm as alpha_miner\n",
    "from pm4py.visualization.petri_net import visualizer as pn_visualizer\n"
   ]
  },
  {
   "cell_type": "code",
   "execution_count": 5,
   "id": "05d91f2f",
   "metadata": {},
   "outputs": [
    {
     "name": "stdout",
     "output_type": "stream",
     "text": [
      "             timestamp    type                                        content\n",
      "0  2025-07-18 09:52:00   filed                                            nan\n",
      "1  2025-07-18 09:52:00  button                                          PDF下载\n",
      "2  2025-07-18 09:52:00  button  基于CRISPR/Cas12a系统联合重组酶聚合酶扩增的鸭星状病毒2型核酸检测试纸条的制备\n",
      "3  2025-07-18 09:52:00  button                 基于RPA-LFD可视化快速检测肺炎克雷伯菌方法的建立及评价\n",
      "4  2025-07-18 09:52:00  button                  热带水产品中溶藻弧菌重组酶聚合酶等温扩增快速检测方法的建立\n",
      "5  2025-07-18 09:52:00  button               基因编辑水稻RPA-CRISPR/Cas12b快速检测方法的建立\n",
      "6  2025-07-18 09:52:00  button                           RPA+AI在企业财务领域应用研究及实践\n",
      "7  2025-07-18 09:52:00  button                                             检索\n",
      "8  2025-07-18 09:52:00  button                                             搜索\n",
      "9  2025-07-18 09:52:00  button                                            nan\n",
      "10 2025-07-18 09:52:00  button               CRISPR-Cas检测系统在食品供应链中安全防控的应用研究进展 Data cleaned successfully.\n"
     ]
    }
   ],
   "source": [
    "# Load Excel log data\n",
    "df = pd.read_excel(\"./log_cleaning.xlsx\")\n",
    "\n",
    "# Clean data\n",
    "df.columns = [col.strip().lower() for col in df.columns]\n",
    "df['content'] = df['content'].astype(str).str.strip().str.replace('\"', '').replace('Unknown', np.nan).replace('', np.nan)\n",
    "df['type'] = df['type'].astype(str).str.lower().str.strip().replace('', np.nan)\n",
    "\n",
    "df = df.dropna(subset=['content', 'type'])\n",
    "df['timestamp'] = pd.to_datetime(df['timestamp'], errors='coerce')\n",
    "df = df.dropna(subset=['timestamp']).sort_values(by='timestamp')\n",
    "df = df.drop_duplicates().reset_index(drop=True)\n",
    "print(df,\"Data cleaned successfully.\") \n"
   ]
  },
  {
   "cell_type": "code",
   "execution_count": 6,
   "id": "51aae8e3",
   "metadata": {},
   "outputs": [],
   "source": [
    "df['session_id'] = (df['timestamp'].diff().dt.total_seconds() > 10).cumsum()\n"
   ]
  },
  {
   "cell_type": "code",
   "execution_count": 7,
   "id": "c2f8990d",
   "metadata": {},
   "outputs": [],
   "source": [
    "df_pm4py = df.rename(columns={\n",
    "    'session_id': 'case:concept:name',\n",
    "    'content': 'concept:name',\n",
    "    'timestamp': 'time:timestamp'\n",
    "})\n",
    "df_pm4py = dataframe_utils.convert_timestamp_columns_in_df(df_pm4py)\n",
    "event_log = log_converter.apply(df_pm4py)\n"
   ]
  },
  {
   "cell_type": "code",
   "execution_count": 10,
   "id": "ca0a819e",
   "metadata": {},
   "outputs": [],
   "source": [
    "net, initial_marking, final_marking = alpha_miner.apply(event_log)\n",
    "# gviz = pn_visualizer.apply(net, initial_marking, final_marking)\n",
    "# pn_visualizer.view(gviz)\n"
   ]
  }
 ],
 "metadata": {
  "kernelspec": {
   "display_name": "Python 3",
   "language": "python",
   "name": "python3"
  },
  "language_info": {
   "codemirror_mode": {
    "name": "ipython",
    "version": 3
   },
   "file_extension": ".py",
   "mimetype": "text/x-python",
   "name": "python",
   "nbconvert_exporter": "python",
   "pygments_lexer": "ipython3",
   "version": "3.13.2"
  }
 },
 "nbformat": 4,
 "nbformat_minor": 5
}
