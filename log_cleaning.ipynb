{
 "cells": [
  {
   "cell_type": "code",
   "execution_count": 4,
   "id": "b7731ef3",
   "metadata": {},
   "outputs": [
    {
     "name": "stdout",
     "output_type": "stream",
     "text": [
      "             timestamp    type                                        content\n",
      "0  2025-07-18 09:52:00   filed                                            NaN\n",
      "1  2025-07-18 09:52:00  button                                            NaN\n",
      "2  2025-07-18 09:52:00   filed                                            NaN\n",
      "3  2025-07-18 09:52:00  button                                           \"搜索\"\n",
      "4  2025-07-18 09:52:00   filed                                            NaN\n",
      "5  2025-07-18 09:52:00  button                                           \"检索\"\n",
      "6  2025-07-18 09:52:00  button                         \"RPA+AI在企业财务领域应用研究及实践\"\n",
      "7  2025-07-18 09:52:00  button                                        \"PDF下载\"\n",
      "8  2025-07-18 09:52:00  button             \"基因编辑水稻RPA-CRISPR/Cas12b快速检测方法的建立\"\n",
      "9  2025-07-18 09:52:00  button                                        \"PDF下载\"\n",
      "10 2025-07-18 09:52:00  button                  热带水产品中溶藻弧菌重组酶聚合酶等温扩增快速检测方法的建立\n",
      "11 2025-07-18 09:52:00  button                                        \"PDF下载\"\n",
      "12 2025-07-18 09:52:00  button                 基于RPA-LFD可视化快速检测肺炎克雷伯菌方法的建立及评价\n",
      "13 2025-07-18 09:52:00  button                                        \"PDF下载\"\n",
      "14 2025-07-18 09:52:00  button  基于CRISPR/Cas12a系统联合重组酶聚合酶扩增的鸭星状病毒2型核酸检测试纸条的制备\n",
      "15 2025-07-18 09:52:00  button                                        \"PDF下载\"\n",
      "16 2025-07-18 09:52:00  button               CRISPR-Cas检测系统在食品供应链中安全防控的应用研究进展\n",
      "17 2025-07-18 09:52:00  button                                        \"PDF下载\" Data loaded successfully.\n"
     ]
    }
   ],
   "source": [
    "import pandas as pd\n",
    "\n",
    "# Load Excel or CSV file\n",
    "file_path = \"./log_cleaning.xlsx\"  # or use \"log.csv\"\n",
    "df_raw = pd.read_excel(file_path)\n",
    "print(df_raw,\"Data loaded successfully.\")\n"
   ]
  },
  {
   "cell_type": "markdown",
   "id": "9a9d52a3",
   "metadata": {},
   "source": [
    "Define the Cleaning Function"
   ]
  },
  {
   "cell_type": "code",
   "execution_count": 7,
   "id": "4df5dc7b",
   "metadata": {},
   "outputs": [],
   "source": [
    "def clean_rpa_log_data(df: pd.DataFrame) -> pd.DataFrame:\n",
    "    \"\"\"\n",
    "    Cleans a messy RPA log dataset for downstream process modeling.\n",
    "    Steps: remove NaN, unknowns, normalize, sort, deduplicate.\n",
    "    \"\"\"\n",
    "\n",
    "    # 1. Drop missing or null 'content'\n",
    "    df = df.dropna(subset=['content'])\n",
    "\n",
    "    # 2. Clean the 'content' column\n",
    "    df['content'] = df['content'].astype(str).str.replace('\"', '').str.strip()\n",
    "\n",
    "    # 3. Remove rows with 'unknown' or blank values\n",
    "    df = df[~df['content'].str.lower().isin(['unknown', '', 'nan'])]\n",
    "\n",
    "    # 4. Normalize the 'type' column\n",
    "    df['type'] = df['type'].astype(str).str.lower().str.strip()\n",
    "\n",
    "    # 5. Convert timestamps and drop invalid ones\n",
    "    df['timestamp'] = pd.to_datetime(df['timestamp'], errors='coerce')\n",
    "    df = df.dropna(subset=['timestamp'])\n",
    "\n",
    "    # 6. Sort by timestamp\n",
    "    df = df.sort_values(by='timestamp').reset_index(drop=True)\n",
    "\n",
    "    # 7. Drop duplicates (if needed)\n",
    "    df = df.drop_duplicates(subset=['timestamp', 'type', 'content'])\n",
    "\n",
    "    return df\n"
   ]
  },
  {
   "cell_type": "code",
   "execution_count": 9,
   "id": "c63d8972",
   "metadata": {},
   "outputs": [
    {
     "name": "stdout",
     "output_type": "stream",
     "text": [
      "             timestamp    type                                        content\n",
      "0  2025-07-18 09:52:00  button                                             搜索\n",
      "1  2025-07-18 09:52:00  button                                             检索\n",
      "2  2025-07-18 09:52:00  button                           RPA+AI在企业财务领域应用研究及实践\n",
      "3  2025-07-18 09:52:00  button                                          PDF下载\n",
      "4  2025-07-18 09:52:00  button               基因编辑水稻RPA-CRISPR/Cas12b快速检测方法的建立\n",
      "6  2025-07-18 09:52:00  button                  热带水产品中溶藻弧菌重组酶聚合酶等温扩增快速检测方法的建立\n",
      "8  2025-07-18 09:52:00  button                 基于RPA-LFD可视化快速检测肺炎克雷伯菌方法的建立及评价\n",
      "10 2025-07-18 09:52:00  button  基于CRISPR/Cas12a系统联合重组酶聚合酶扩增的鸭星状病毒2型核酸检测试纸条的制备\n",
      "12 2025-07-18 09:52:00  button               CRISPR-Cas检测系统在食品供应链中安全防控的应用研究进展 Data cleaned successfully.\n"
     ]
    },
    {
     "name": "stderr",
     "output_type": "stream",
     "text": [
      "C:\\Users\\Asus\\AppData\\Local\\Temp\\ipykernel_10352\\2954647626.py:11: SettingWithCopyWarning: \n",
      "A value is trying to be set on a copy of a slice from a DataFrame.\n",
      "Try using .loc[row_indexer,col_indexer] = value instead\n",
      "\n",
      "See the caveats in the documentation: https://pandas.pydata.org/pandas-docs/stable/user_guide/indexing.html#returning-a-view-versus-a-copy\n",
      "  df['content'] = df['content'].astype(str).str.replace('\"', '').str.strip()\n"
     ]
    }
   ],
   "source": [
    "df_cleaned = clean_rpa_log_data(df_raw)\n",
    "print(df_cleaned,\"Data cleaned successfully.\")\n"
   ]
  },
  {
   "cell_type": "code",
   "execution_count": 10,
   "id": "027214fb",
   "metadata": {},
   "outputs": [],
   "source": [
    "# Save to CSV\n",
    "df_cleaned.to_csv(\"Cleaned_Log_Data.csv\", index=False)"
   ]
  },
  {
   "cell_type": "code",
   "execution_count": 11,
   "id": "4eacf860",
   "metadata": {},
   "outputs": [
    {
     "name": "stderr",
     "output_type": "stream",
     "text": [
      "usage: ipykernel_launcher.py [-h] --input INPUT --output OUTPUT\n",
      "ipykernel_launcher.py: error: the following arguments are required: --input, --output\n"
     ]
    },
    {
     "ename": "SystemExit",
     "evalue": "2",
     "output_type": "error",
     "traceback": [
      "An exception has occurred, use %tb to see the full traceback.\n",
      "\u001b[31mSystemExit\u001b[39m\u001b[31m:\u001b[39m 2\n"
     ]
    },
    {
     "name": "stderr",
     "output_type": "stream",
     "text": [
      "c:\\Users\\Asus\\AppData\\Local\\Programs\\Python\\Python313\\Lib\\site-packages\\IPython\\core\\interactiveshell.py:3554: UserWarning: To exit: use 'exit', 'quit', or Ctrl-D.\n",
      "  warn(\"To exit: use 'exit', 'quit', or Ctrl-D.\", stacklevel=1)\n"
     ]
    }
   ],
   "source": [
    "if __name__ == \"__main__\":\n",
    "    import argparse\n",
    "\n",
    "    parser = argparse.ArgumentParser()\n",
    "    parser.add_argument(\"--input\", type=str, required=True, help=\"Path to the input Excel/CSV file\")\n",
    "    parser.add_argument(\"--output\", type=str, required=True, help=\"Path to save cleaned file (Excel or CSV)\")\n",
    "    args = parser.parse_args()\n",
    "\n",
    "    # Load\n",
    "    if args.input.endswith(\".csv\"):\n",
    "        df_raw = pd.read_csv(args.input)\n",
    "    else:\n",
    "        df_raw = pd.read_excel(args.input)\n",
    "\n",
    "    # Clean\n",
    "    df_cleaned = clean_rpa_log_data(df_raw)\n",
    "\n",
    "    # Save\n",
    "    if args.output.endswith(\".csv\"):\n",
    "        df_cleaned.to_csv(args.output, index=False)\n",
    "    else:\n",
    "        df_cleaned.to_excel(args.output, index=False)\n",
    "\n",
    "    print(f\"✅ Cleaned log saved to {args.output}\")\n"
   ]
  }
 ],
 "metadata": {
  "kernelspec": {
   "display_name": "Python 3",
   "language": "python",
   "name": "python3"
  },
  "language_info": {
   "codemirror_mode": {
    "name": "ipython",
    "version": 3
   },
   "file_extension": ".py",
   "mimetype": "text/x-python",
   "name": "python",
   "nbconvert_exporter": "python",
   "pygments_lexer": "ipython3",
   "version": "3.13.2"
  }
 },
 "nbformat": 4,
 "nbformat_minor": 5
}
